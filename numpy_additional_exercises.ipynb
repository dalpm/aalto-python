{
 "cells": [
  {
   "cell_type": "code",
   "execution_count": 1,
   "id": "01be2e80-eafd-4548-9787-37c15933c9ae",
   "metadata": {},
   "outputs": [],
   "source": [
    "import numpy as np"
   ]
  },
  {
   "cell_type": "markdown",
   "id": "8a0f0d08-a26a-43fb-8bf6-9550d365689b",
   "metadata": {},
   "source": [
    "Reverse a vector. Given a vector, reverse it such that the last element becomes the first"
   ]
  },
  {
   "cell_type": "code",
   "execution_count": 2,
   "id": "033efccd-00a9-4d50-8ae7-a22e26e7cc73",
   "metadata": {},
   "outputs": [
    {
     "data": {
      "text/plain": [
       "array([0, 1, 2])"
      ]
     },
     "execution_count": 2,
     "metadata": {},
     "output_type": "execute_result"
    }
   ],
   "source": [
    "x = np.arange(3)\n",
    "x"
   ]
  },
  {
   "cell_type": "code",
   "execution_count": 3,
   "id": "e5e3b5a3-d141-432d-b5dd-459ed937c7e1",
   "metadata": {},
   "outputs": [
    {
     "data": {
      "text/plain": [
       "array([2, 1, 0])"
      ]
     },
     "execution_count": 3,
     "metadata": {},
     "output_type": "execute_result"
    }
   ],
   "source": [
    "x_rev = x[::-1]\n",
    "x_rev"
   ]
  },
  {
   "cell_type": "markdown",
   "id": "3c193591-3144-496b-8104-14d6c813241f",
   "metadata": {},
   "source": [
    "Create a 2D array with zeros on the borders and 1 inside."
   ]
  },
  {
   "cell_type": "code",
   "execution_count": 4,
   "id": "cf8f9f93-e63b-4002-8317-244512eefaee",
   "metadata": {},
   "outputs": [
    {
     "data": {
      "text/plain": [
       "array([[1., 1., 1., 1.],\n",
       "       [1., 1., 1., 1.],\n",
       "       [1., 1., 1., 1.]])"
      ]
     },
     "execution_count": 4,
     "metadata": {},
     "output_type": "execute_result"
    }
   ],
   "source": [
    "arr = np.ones(12).reshape(3,4)\n",
    "arr"
   ]
  },
  {
   "cell_type": "code",
   "execution_count": 5,
   "id": "a40f9a5d-c6b0-47ca-92fa-61ea78d7dbb7",
   "metadata": {},
   "outputs": [],
   "source": [
    "arr[0] = 0\n",
    "arr[-1] = 0\n",
    "arr[:,0] = 0\n",
    "arr[:,-1] = 0"
   ]
  },
  {
   "cell_type": "code",
   "execution_count": 6,
   "id": "3396b971-a34f-4853-b31e-80e09d6b1561",
   "metadata": {},
   "outputs": [
    {
     "data": {
      "text/plain": [
       "array([[0., 0., 0., 0.],\n",
       "       [0., 1., 1., 0.],\n",
       "       [0., 0., 0., 0.]])"
      ]
     },
     "execution_count": 6,
     "metadata": {},
     "output_type": "execute_result"
    }
   ],
   "source": [
    "arr"
   ]
  },
  {
   "cell_type": "markdown",
   "id": "c4b0b313-1241-42e5-a348-dbee2c5968fe",
   "metadata": {},
   "source": [
    "Create a random array with elements [0, 1), then add 10 to all elements in the range [0.2, 0.7)."
   ]
  },
  {
   "cell_type": "code",
   "execution_count": 7,
   "id": "859fa1fe-6e30-4a9f-b43a-d484a44eb803",
   "metadata": {},
   "outputs": [
    {
     "data": {
      "text/plain": [
       "array([[0.25599653, 0.27239068, 0.83485297, 0.38166733, 0.9894346 ,\n",
       "        0.3966138 , 0.64518835, 0.48947606, 0.96500094, 0.81941976]])"
      ]
     },
     "execution_count": 7,
     "metadata": {},
     "output_type": "execute_result"
    }
   ],
   "source": [
    "a = np.random.random((1,10))\n",
    "a"
   ]
  },
  {
   "cell_type": "code",
   "execution_count": 8,
   "id": "8814d74a-71cb-4f69-bcc1-9c7cfd10dbf9",
   "metadata": {},
   "outputs": [
    {
     "data": {
      "text/plain": [
       "array([[10.25599653, 10.27239068,  0.83485297, 10.38166733,  0.9894346 ,\n",
       "        10.3966138 , 10.64518835, 10.48947606,  0.96500094,  0.81941976]])"
      ]
     },
     "execution_count": 8,
     "metadata": {},
     "output_type": "execute_result"
    }
   ],
   "source": [
    "bool1 = (0.2 <= a)\n",
    "bool2 = (a < 0.7)\n",
    "idx = (bool1 & bool2)\n",
    "a[idx] += 10\n",
    "a"
   ]
  },
  {
   "cell_type": "markdown",
   "id": "f5ee8945-1872-4bc8-a34f-34cb8303e9fb",
   "metadata": {},
   "source": [
    "What is np.round(0.5)? What is np.round(1.5)? Why?"
   ]
  },
  {
   "cell_type": "code",
   "execution_count": 9,
   "id": "abd8b83f-0dd5-4608-8c76-18900a436c18",
   "metadata": {},
   "outputs": [
    {
     "data": {
      "text/plain": [
       "0.0"
      ]
     },
     "execution_count": 9,
     "metadata": {},
     "output_type": "execute_result"
    }
   ],
   "source": [
    "np.round(0.5)"
   ]
  },
  {
   "cell_type": "code",
   "execution_count": 10,
   "id": "d6ae8cab-f329-48b1-b0be-b0a3b160f45f",
   "metadata": {},
   "outputs": [
    {
     "data": {
      "text/plain": [
       "2.0"
      ]
     },
     "execution_count": 10,
     "metadata": {},
     "output_type": "execute_result"
    }
   ],
   "source": [
    "np.round(1.5)"
   ]
  },
  {
   "cell_type": "markdown",
   "id": "a5667595-9d42-4077-9db2-6233d9f3c3bd",
   "metadata": {},
   "source": [
    "numpy rounds to the nearest even value."
   ]
  },
  {
   "cell_type": "markdown",
   "id": "8fceb6b0-a9de-4b8c-aa02-b21e49b4aa61",
   "metadata": {},
   "source": [
    "In addition to np.round, explore numpy.ceil, numpy.floor, numpy.trunc. In particular, take note of how they behave with negative numbers."
   ]
  },
  {
   "cell_type": "code",
   "execution_count": 11,
   "id": "86465087-9436-4209-881c-07b7d8a88428",
   "metadata": {},
   "outputs": [],
   "source": [
    "new_arr = np.array([1.5,2.5,3.5])"
   ]
  },
  {
   "cell_type": "code",
   "execution_count": 12,
   "id": "e5de7f5a-e5d1-4288-91ce-be8d2d20cca0",
   "metadata": {},
   "outputs": [
    {
     "data": {
      "text/plain": [
       "array([2., 3., 4.])"
      ]
     },
     "execution_count": 12,
     "metadata": {},
     "output_type": "execute_result"
    }
   ],
   "source": [
    "np.ceil(new_arr)"
   ]
  },
  {
   "cell_type": "code",
   "execution_count": 13,
   "id": "e890398a-f865-4d20-a10d-6465f86f886e",
   "metadata": {},
   "outputs": [
    {
     "data": {
      "text/plain": [
       "array([1., 2., 3.])"
      ]
     },
     "execution_count": 13,
     "metadata": {},
     "output_type": "execute_result"
    }
   ],
   "source": [
    "np.floor(new_arr)"
   ]
  },
  {
   "cell_type": "code",
   "execution_count": 14,
   "id": "31fbf980-ca3a-46fa-aafb-a7bb2ca99a11",
   "metadata": {},
   "outputs": [
    {
     "data": {
      "text/plain": [
       "array([1., 2., 3.])"
      ]
     },
     "execution_count": 14,
     "metadata": {},
     "output_type": "execute_result"
    }
   ],
   "source": [
    "np.trunc(new_arr)"
   ]
  },
  {
   "cell_type": "markdown",
   "id": "861fe8b5-a41a-4123-9f31-a0891b2b929c",
   "metadata": {},
   "source": [
    "Create a random 4x4 array with values in the range [0, 10). Now test the equality with numpy.equal. What result do you get with numpy.allclose() instead of np.equal?"
   ]
  },
  {
   "cell_type": "code",
   "execution_count": 15,
   "id": "d19f4e1d-dc0c-449c-a1db-56f37f53d163",
   "metadata": {},
   "outputs": [
    {
     "data": {
      "text/plain": [
       "array([[0, 6, 8, 8],\n",
       "       [8, 1, 9, 6],\n",
       "       [6, 4, 8, 1],\n",
       "       [4, 2, 1, 1]])"
      ]
     },
     "execution_count": 15,
     "metadata": {},
     "output_type": "execute_result"
    }
   ],
   "source": [
    "rand_arr = np.random.randint(0, 10, (4,4))\n",
    "rand_arr"
   ]
  },
  {
   "cell_type": "code",
   "execution_count": 16,
   "id": "c26f3891-653e-4648-83af-9bf505febf0b",
   "metadata": {},
   "outputs": [
    {
     "data": {
      "text/plain": [
       "array([[1., 1., 1., 1.],\n",
       "       [1., 1., 1., 1.],\n",
       "       [1., 1., 1., 1.],\n",
       "       [1., 1., 1., 1.]])"
      ]
     },
     "execution_count": 16,
     "metadata": {},
     "output_type": "execute_result"
    }
   ],
   "source": [
    "ones_arr = np.ones((4,4))\n",
    "ones_arr"
   ]
  },
  {
   "cell_type": "code",
   "execution_count": 17,
   "id": "b793ddfd-058b-4436-87f5-84ba197d1c9a",
   "metadata": {},
   "outputs": [
    {
     "data": {
      "text/plain": [
       "array([[1., 1., 1., 1.],\n",
       "       [1., 1., 1., 1.],\n",
       "       [1., 1., 1., 1.],\n",
       "       [1., 1., 1., 1.]])"
      ]
     },
     "execution_count": 17,
     "metadata": {},
     "output_type": "execute_result"
    }
   ],
   "source": [
    "sin2cos2 = np.square(np.sin(rand_arr)) + np.square(np.cos(rand_arr))\n",
    "sin2cos2"
   ]
  },
  {
   "cell_type": "code",
   "execution_count": 18,
   "id": "c9a56c8d-30f7-4e43-a35d-49c19cc114a7",
   "metadata": {},
   "outputs": [
    {
     "data": {
      "text/plain": [
       "array([[ True,  True,  True,  True],\n",
       "       [ True,  True, False,  True],\n",
       "       [ True,  True,  True,  True],\n",
       "       [ True,  True,  True,  True]])"
      ]
     },
     "execution_count": 18,
     "metadata": {},
     "output_type": "execute_result"
    }
   ],
   "source": [
    "np.equal(ones_arr, sin2cos2)"
   ]
  },
  {
   "cell_type": "code",
   "execution_count": 19,
   "id": "abd72154-90bb-4c97-aa2a-a3d965744c56",
   "metadata": {},
   "outputs": [
    {
     "data": {
      "text/plain": [
       "True"
      ]
     },
     "execution_count": 19,
     "metadata": {},
     "output_type": "execute_result"
    }
   ],
   "source": [
    "np.allclose(ones_arr, sin2cos2)"
   ]
  },
  {
   "cell_type": "markdown",
   "id": "af7ac24c-f610-405a-b1e5-b605c56f3fb3",
   "metadata": {},
   "source": [
    "Create a 1D array with 10 random elements. Sort it."
   ]
  },
  {
   "cell_type": "code",
   "execution_count": 20,
   "id": "d0f71e6a-1a03-4a0b-9992-3be00b24b971",
   "metadata": {},
   "outputs": [
    {
     "data": {
      "text/plain": [
       "array([[0.52300461, 0.8257738 , 0.09331598, 0.12248112, 0.80936908,\n",
       "        0.31750389, 0.77795343, 0.67552885, 0.42398677, 0.20669676]])"
      ]
     },
     "execution_count": 20,
     "metadata": {},
     "output_type": "execute_result"
    }
   ],
   "source": [
    "rand_one_d = np.random.random((1, 10))\n",
    "rand_one_d"
   ]
  },
  {
   "cell_type": "code",
   "execution_count": 21,
   "id": "e7e41d3b-3309-442f-beb9-a4663c31e4fc",
   "metadata": {},
   "outputs": [],
   "source": [
    "rand_one_d.sort()"
   ]
  },
  {
   "cell_type": "code",
   "execution_count": 22,
   "id": "158b27f5-f6e8-47f8-b031-5190e5fc18dc",
   "metadata": {},
   "outputs": [
    {
     "data": {
      "text/plain": [
       "array([[0.09331598, 0.12248112, 0.20669676, 0.31750389, 0.42398677,\n",
       "        0.52300461, 0.67552885, 0.77795343, 0.80936908, 0.8257738 ]])"
      ]
     },
     "execution_count": 22,
     "metadata": {},
     "output_type": "execute_result"
    }
   ],
   "source": [
    "np.sort(rand_one_d)"
   ]
  },
  {
   "cell_type": "markdown",
   "id": "7c34f708-a565-4898-aaa1-55feec51d8d6",
   "metadata": {},
   "source": [
    "np.sort() returns the sorted array."
   ]
  },
  {
   "cell_type": "code",
   "execution_count": 23,
   "id": "a8456373-016c-4b32-af42-73ad3b2bac1d",
   "metadata": {},
   "outputs": [
    {
     "data": {
      "text/plain": [
       "array([[0.85924189, 0.14495723, 0.33557731, 0.58516079, 0.43524505,\n",
       "        0.56467774, 0.75624278, 0.9828831 , 0.22875836, 0.87835705]])"
      ]
     },
     "execution_count": 23,
     "metadata": {},
     "output_type": "execute_result"
    }
   ],
   "source": [
    "rand_one_d = np.random.random((1, 10))\n",
    "rand_one_d"
   ]
  },
  {
   "cell_type": "code",
   "execution_count": 24,
   "id": "97b90d0e-fe1e-4caa-a04b-8e4714ef5cf6",
   "metadata": {},
   "outputs": [
    {
     "data": {
      "text/plain": [
       "array([[1, 8, 2, 4, 5, 3, 6, 0, 9, 7]])"
      ]
     },
     "execution_count": 24,
     "metadata": {},
     "output_type": "execute_result"
    }
   ],
   "source": [
    "np.argsort(rand_one_d)"
   ]
  },
  {
   "cell_type": "markdown",
   "id": "bafd5acf-8260-4ff9-9050-a8c3640b5b66",
   "metadata": {},
   "source": [
    "Create a 4x4 array of zeros, and another 4x4 array of ones. Next combine them into a single 8x4 array with the content of the zeros array on top and the ones on the bottom. Finally, do the same, but create a 4x8 array with the zeros on the left and the ones on the right."
   ]
  },
  {
   "cell_type": "code",
   "execution_count": 25,
   "id": "5836c32a-77bf-4f39-9043-82c420bb984f",
   "metadata": {},
   "outputs": [
    {
     "data": {
      "text/plain": [
       "array([[0., 0., 0., 0.],\n",
       "       [0., 0., 0., 0.],\n",
       "       [0., 0., 0., 0.],\n",
       "       [0., 0., 0., 0.]])"
      ]
     },
     "execution_count": 25,
     "metadata": {},
     "output_type": "execute_result"
    }
   ],
   "source": [
    "zero_arr = np.zeros((4,4))\n",
    "zero_arr"
   ]
  },
  {
   "cell_type": "code",
   "execution_count": 26,
   "id": "30e6c81a-53ae-4505-a66e-611db98f467a",
   "metadata": {},
   "outputs": [
    {
     "data": {
      "text/plain": [
       "array([[1., 1., 1., 1.],\n",
       "       [1., 1., 1., 1.],\n",
       "       [1., 1., 1., 1.],\n",
       "       [1., 1., 1., 1.]])"
      ]
     },
     "execution_count": 26,
     "metadata": {},
     "output_type": "execute_result"
    }
   ],
   "source": [
    "ones_arr = np.ones((4,4))\n",
    "ones_arr"
   ]
  },
  {
   "cell_type": "code",
   "execution_count": 27,
   "id": "d49f406e-0bfc-4290-b2d1-d669d34435c2",
   "metadata": {},
   "outputs": [
    {
     "data": {
      "text/plain": [
       "array([[0., 0., 0., 0.],\n",
       "       [0., 0., 0., 0.],\n",
       "       [0., 0., 0., 0.],\n",
       "       [0., 0., 0., 0.],\n",
       "       [1., 1., 1., 1.],\n",
       "       [1., 1., 1., 1.],\n",
       "       [1., 1., 1., 1.],\n",
       "       [1., 1., 1., 1.]])"
      ]
     },
     "execution_count": 27,
     "metadata": {},
     "output_type": "execute_result"
    }
   ],
   "source": [
    "np.append(zero_arr, ones_arr).reshape(8,4)"
   ]
  },
  {
   "cell_type": "code",
   "execution_count": 28,
   "id": "67349f37-8994-4335-9f6a-ba85ab7c4c7b",
   "metadata": {},
   "outputs": [
    {
     "data": {
      "text/plain": [
       "array([[0., 0., 0., 0.],\n",
       "       [0., 0., 0., 0.],\n",
       "       [0., 0., 0., 0.],\n",
       "       [0., 0., 0., 0.],\n",
       "       [1., 1., 1., 1.],\n",
       "       [1., 1., 1., 1.],\n",
       "       [1., 1., 1., 1.],\n",
       "       [1., 1., 1., 1.]])"
      ]
     },
     "execution_count": 28,
     "metadata": {},
     "output_type": "execute_result"
    }
   ],
   "source": [
    "np.concatenate((zero_arr, ones_arr))"
   ]
  },
  {
   "cell_type": "code",
   "execution_count": 29,
   "id": "252aa226-2e88-41cc-83f8-61525acbafbe",
   "metadata": {},
   "outputs": [
    {
     "data": {
      "text/plain": [
       "array([[0., 0., 0., 0., 1., 1., 1., 1.],\n",
       "       [0., 0., 0., 0., 1., 1., 1., 1.],\n",
       "       [0., 0., 0., 0., 1., 1., 1., 1.],\n",
       "       [0., 0., 0., 0., 1., 1., 1., 1.]])"
      ]
     },
     "execution_count": 29,
     "metadata": {},
     "output_type": "execute_result"
    }
   ],
   "source": [
    "np.concatenate((zero_arr, ones_arr), axis = 1)"
   ]
  },
  {
   "cell_type": "markdown",
   "id": "0c3d85e8-cac3-401c-9063-963ce4cec96d",
   "metadata": {},
   "source": [
    "NumPy functionality Create two 2D arrays and do matrix multiplication first manually (for loop), then using the np.dot function. Use %%timeit to compare execution times. What is happening?"
   ]
  },
  {
   "cell_type": "code",
   "execution_count": 30,
   "id": "78282114-b03a-486f-8fb7-a28468b51951",
   "metadata": {},
   "outputs": [],
   "source": [
    "first_arr = np.arange(18).reshape(3,6)\n",
    "second_arr = np.arange(42).reshape(6,7)"
   ]
  },
  {
   "cell_type": "code",
   "execution_count": 31,
   "id": "5f9973b8-760b-434c-8801-27d9674e98fe",
   "metadata": {},
   "outputs": [
    {
     "name": "stdout",
     "output_type": "stream",
     "text": [
      "1.31 µs ± 30.6 ns per loop (mean ± std. dev. of 7 runs, 1000000 loops each)\n"
     ]
    }
   ],
   "source": [
    "%%timeit\n",
    "np.dot(first_arr, second_arr)"
   ]
  },
  {
   "cell_type": "code",
   "execution_count": 32,
   "id": "07054a5f-5d11-485d-95e9-457ffa5d74b1",
   "metadata": {},
   "outputs": [],
   "source": [
    "new_arr = np.zeros((first_arr.shape[0],second_arr.shape[1]))"
   ]
  },
  {
   "cell_type": "code",
   "execution_count": 33,
   "id": "172ccbe2-6187-48f3-ad7f-978cc22e5137",
   "metadata": {},
   "outputs": [
    {
     "data": {
      "text/plain": [
       "3"
      ]
     },
     "execution_count": 33,
     "metadata": {},
     "output_type": "execute_result"
    }
   ],
   "source": [
    "first_arr.shape[0]"
   ]
  },
  {
   "cell_type": "markdown",
   "id": "2f07b131-bc0c-4ea3-9dc9-9b884f430a00",
   "metadata": {},
   "source": [
    "Matrix Multiplication"
   ]
  },
  {
   "cell_type": "code",
   "execution_count": 34,
   "id": "2e2060bf-33ea-4f71-ae94-c0f29ebaba75",
   "metadata": {},
   "outputs": [
    {
     "name": "stdout",
     "output_type": "stream",
     "text": [
      "77.2 µs ± 349 ns per loop (mean ± std. dev. of 7 runs, 10000 loops each)\n"
     ]
    }
   ],
   "source": [
    "%%timeit\n",
    "for i in range(first_arr.shape[0]):\n",
    "    for j in range(second_arr.shape[1]):\n",
    "        sum_new = 0\n",
    "        for k in range(second_arr.shape[0]):\n",
    "            sum_new += first_arr[i][k] * second_arr[k][j]\n",
    "        new_arr[i][j] = sum_new"
   ]
  },
  {
   "cell_type": "code",
   "execution_count": 35,
   "id": "e900400c-4b4e-4a6d-91c5-c2d9c413550d",
   "metadata": {},
   "outputs": [
    {
     "data": {
      "text/plain": [
       "array([[ 385.,  400.,  415.,  430.,  445.,  460.,  475.],\n",
       "       [1015., 1066., 1117., 1168., 1219., 1270., 1321.],\n",
       "       [1645., 1732., 1819., 1906., 1993., 2080., 2167.]])"
      ]
     },
     "execution_count": 35,
     "metadata": {},
     "output_type": "execute_result"
    }
   ],
   "source": [
    "new_arr"
   ]
  },
  {
   "cell_type": "markdown",
   "id": "e0835275-4d15-461f-a32c-3797d143ab4e",
   "metadata": {},
   "source": [
    "numpy without np.dot is quite slow."
   ]
  }
 ],
 "metadata": {
  "kernelspec": {
   "display_name": "Python 3 (ipykernel)",
   "language": "python",
   "name": "python3"
  },
  "language_info": {
   "codemirror_mode": {
    "name": "ipython",
    "version": 3
   },
   "file_extension": ".py",
   "mimetype": "text/x-python",
   "name": "python",
   "nbconvert_exporter": "python",
   "pygments_lexer": "ipython3",
   "version": "3.9.13"
  }
 },
 "nbformat": 4,
 "nbformat_minor": 5
}
