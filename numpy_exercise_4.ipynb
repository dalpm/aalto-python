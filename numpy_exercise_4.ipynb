{
 "cells": [
  {
   "cell_type": "code",
   "execution_count": 1,
   "id": "436b38ab-68c5-454a-9ef3-cf20679bfe1d",
   "metadata": {},
   "outputs": [],
   "source": [
    "import numpy as np"
   ]
  },
  {
   "cell_type": "code",
   "execution_count": 2,
   "id": "dbc01cd2-814a-4473-826c-4ab97dce5551",
   "metadata": {},
   "outputs": [],
   "source": [
    "x = np.arange(0, 12).reshape(3, 4)"
   ]
  },
  {
   "cell_type": "code",
   "execution_count": 3,
   "id": "1adcde9c-74d0-4c21-b7f3-7037fc796f5e",
   "metadata": {},
   "outputs": [
    {
     "data": {
      "text/plain": [
       "array([[ 0,  1,  2,  3],\n",
       "       [ 4,  5,  6,  7],\n",
       "       [ 8,  9, 10, 11]])"
      ]
     },
     "execution_count": 3,
     "metadata": {},
     "output_type": "execute_result"
    }
   ],
   "source": [
    "x"
   ]
  },
  {
   "cell_type": "code",
   "execution_count": 4,
   "id": "86679d2b-3104-41a0-bbd7-0c23637c15c8",
   "metadata": {},
   "outputs": [
    {
     "data": {
      "text/plain": [
       "array([[ 0,  2,  4,  6],\n",
       "       [ 8, 10, 12, 14],\n",
       "       [16, 18, 20, 22]])"
      ]
     },
     "execution_count": 4,
     "metadata": {},
     "output_type": "execute_result"
    }
   ],
   "source": [
    "np.add(x, x, x)"
   ]
  },
  {
   "cell_type": "code",
   "execution_count": 5,
   "id": "dcfcaf04-f6a5-4384-a68d-2ca9c4aba57a",
   "metadata": {},
   "outputs": [],
   "source": [
    "incr_arr = np.arange(1000)\n",
    "zero_arr = np.zeros(1000)"
   ]
  },
  {
   "cell_type": "code",
   "execution_count": 6,
   "id": "82631fa7-a349-4867-8a65-20b893bd7553",
   "metadata": {},
   "outputs": [
    {
     "name": "stdout",
     "output_type": "stream",
     "text": [
      "926 ns ± 16.1 ns per loop (mean ± std. dev. of 7 runs, 1000000 loops each)\n"
     ]
    }
   ],
   "source": [
    "%%timeit\n",
    "zero_arr = incr_arr ** 2"
   ]
  },
  {
   "cell_type": "code",
   "execution_count": 7,
   "id": "42638ebd-9523-4e37-abe4-b6ca3422a4fe",
   "metadata": {},
   "outputs": [
    {
     "name": "stdout",
     "output_type": "stream",
     "text": [
      "1.98 µs ± 46.8 ns per loop (mean ± std. dev. of 7 runs, 100000 loops each)\n"
     ]
    }
   ],
   "source": [
    "%%timeit\n",
    "np.square(incr_arr, out = zero_arr)"
   ]
  },
  {
   "cell_type": "markdown",
   "id": "e9f74cf8-f6f4-4622-aff1-195ed57b76ab",
   "metadata": {},
   "source": [
    "numpy is not very effective in small arrays."
   ]
  }
 ],
 "metadata": {
  "kernelspec": {
   "display_name": "Python 3 (ipykernel)",
   "language": "python",
   "name": "python3"
  },
  "language_info": {
   "codemirror_mode": {
    "name": "ipython",
    "version": 3
   },
   "file_extension": ".py",
   "mimetype": "text/x-python",
   "name": "python",
   "nbconvert_exporter": "python",
   "pygments_lexer": "ipython3",
   "version": "3.9.13"
  }
 },
 "nbformat": 4,
 "nbformat_minor": 5
}
