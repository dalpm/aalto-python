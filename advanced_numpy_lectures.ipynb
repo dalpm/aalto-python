{
 "cells": [
  {
   "cell_type": "markdown",
   "id": "ef0404da-1392-4fd9-9d24-4be7a8734681",
   "metadata": {},
   "source": [
    "Let’s race the BLAS function versus a naive “manual” version of computing the vector norm. We start by creating a decently long vector filled with random numbers:"
   ]
  },
  {
   "cell_type": "markdown",
   "id": "e820b523-1493-4e04-afef-cc75a4511e32",
   "metadata": {},
   "source": [
    "Python Version"
   ]
  },
  {
   "cell_type": "code",
   "execution_count": 8,
   "id": "404160c3-1ee0-4a45-b770-51f9b6239b4d",
   "metadata": {},
   "outputs": [],
   "source": [
    "import numpy as np\n",
    "rng = np.random.default_rng(seed=0)\n",
    "a = rng.random(100_000_000)"
   ]
  },
  {
   "cell_type": "code",
   "execution_count": 10,
   "id": "7625ddde-7520-4f0d-8343-5a25feeb82d3",
   "metadata": {},
   "outputs": [
    {
     "name": "stdout",
     "output_type": "stream",
     "text": [
      "5773.352000239466\n",
      "5773.352000239466\n",
      "5773.352000239466\n",
      "5773.352000239466\n",
      "5773.352000239466\n",
      "5773.352000239466\n",
      "5773.352000239466\n",
      "5773.352000239466\n",
      "491 ms ± 8.96 ms per loop (mean ± std. dev. of 7 runs, 1 loop each)\n"
     ]
    }
   ],
   "source": [
    "%%timeit\n",
    "l = np.sqrt(np.sum(np.square(a)))\n",
    "print(l)"
   ]
  },
  {
   "cell_type": "markdown",
   "id": "950f505c-c265-436b-8e23-2c1e1146b48b",
   "metadata": {},
   "source": [
    "BLAS Implementation"
   ]
  },
  {
   "cell_type": "code",
   "execution_count": 13,
   "id": "c91af0fb-83cd-4c5d-9440-19e1f5f4e446",
   "metadata": {},
   "outputs": [
    {
     "name": "stdout",
     "output_type": "stream",
     "text": [
      "39 ms ± 939 µs per loop (mean ± std. dev. of 7 runs, 10 loops each)\n"
     ]
    }
   ],
   "source": [
    "%%timeit\n",
    "l = np.linalg.norm(a)"
   ]
  },
  {
   "cell_type": "markdown",
   "id": "918486c3-7ec4-466d-8de4-d0e19ad42180",
   "metadata": {},
   "source": [
    "Matrix Transpose"
   ]
  },
  {
   "cell_type": "code",
   "execution_count": 14,
   "id": "7309d6d9-2d88-461e-ac4b-194b109db558",
   "metadata": {},
   "outputs": [
    {
     "name": "stdout",
     "output_type": "stream",
     "text": [
      "Matrix `a` takes up 1600.0 MB\n"
     ]
    }
   ],
   "source": [
    "a = np.random.rand(10000, 20000)\n",
    "print(f'Matrix `a` takes up {a.nbytes / 10**6} MB')"
   ]
  },
  {
   "cell_type": "code",
   "execution_count": 15,
   "id": "39863587-4140-4c09-aca2-b0fd0d221ceb",
   "metadata": {},
   "outputs": [
    {
     "name": "stdout",
     "output_type": "stream",
     "text": [
      "121 ns ± 0.63 ns per loop (mean ± std. dev. of 7 runs, 10000000 loops each)\n"
     ]
    }
   ],
   "source": [
    "%%timeit\n",
    "b = a.transpose()"
   ]
  }
 ],
 "metadata": {
  "kernelspec": {
   "display_name": "Python 3 (ipykernel)",
   "language": "python",
   "name": "python3"
  },
  "language_info": {
   "codemirror_mode": {
    "name": "ipython",
    "version": 3
   },
   "file_extension": ".py",
   "mimetype": "text/x-python",
   "name": "python",
   "nbconvert_exporter": "python",
   "pygments_lexer": "ipython3",
   "version": "3.9.13"
  }
 },
 "nbformat": 4,
 "nbformat_minor": 5
}
