{
 "cells": [
  {
   "cell_type": "code",
   "execution_count": 1,
   "id": "dd6bda34-5b01-490e-b4c9-13bce6e72e39",
   "metadata": {},
   "outputs": [],
   "source": [
    "import numpy as np"
   ]
  },
  {
   "cell_type": "markdown",
   "id": "ce52a0a5-2858-4d97-93fa-ca49d5987733",
   "metadata": {},
   "source": [
    "Exercise 1\n",
    "\n",
    "Write a Python script that uses NumPy to generate 100 million (100000000) random numbers and add them all together. Time how long it takes to execute. Can you beat the C version?"
   ]
  },
  {
   "cell_type": "code",
   "execution_count": 2,
   "id": "d8219eaf-b961-4312-87cd-28962c20b52e",
   "metadata": {},
   "outputs": [
    {
     "name": "stdout",
     "output_type": "stream",
     "text": [
      "905 ms ± 12.7 ms per loop (mean ± std. dev. of 7 runs, 1 loop each)\n"
     ]
    }
   ],
   "source": [
    "%%timeit\n",
    "N_ELEMENTS = 100000000\n",
    "rand_arr = np.random.random((1, N_ELEMENTS))\n",
    "sum_num = np.sum(rand_arr)"
   ]
  },
  {
   "cell_type": "markdown",
   "id": "91462ccf-1aaf-4486-93aa-4b5302a3c4ad",
   "metadata": {},
   "source": [
    "Exercise 2"
   ]
  },
  {
   "cell_type": "markdown",
   "id": "6403d8f5-db95-47e6-a56c-0c202cff29ee",
   "metadata": {},
   "source": [
    "Write a function called ravel() that takes the row and column of an element in a 2D matrix and produces the appropriate index in an 1D array, where all the rows are concatenated. See the image above to remind yourself how each row of the 2D matrix ends up in the 1D array."
   ]
  },
  {
   "cell_type": "code",
   "execution_count": 3,
   "id": "24801a04-35a9-44b8-acc6-1925c1c73deb",
   "metadata": {},
   "outputs": [],
   "source": [
    "def ravel(row, col, n_rows, n_cols):\n",
    "    index_val = row * n_cols + col\n",
    "    return index_val"
   ]
  },
  {
   "cell_type": "code",
   "execution_count": 4,
   "id": "00555579-c478-4adc-b7d8-d3124de10430",
   "metadata": {},
   "outputs": [
    {
     "data": {
      "text/plain": [
       "11"
      ]
     },
     "execution_count": 4,
     "metadata": {},
     "output_type": "execute_result"
    }
   ],
   "source": [
    "ravel(2, 3, n_rows=4, n_cols=4)"
   ]
  },
  {
   "cell_type": "code",
   "execution_count": 5,
   "id": "32a8e1f6-ed7f-4e13-8679-a4148b6bbe7a",
   "metadata": {},
   "outputs": [
    {
     "data": {
      "text/plain": [
       "19"
      ]
     },
     "execution_count": 5,
     "metadata": {},
     "output_type": "execute_result"
    }
   ],
   "source": [
    "ravel(2, 3, n_rows=4, n_cols=8)"
   ]
  },
  {
   "cell_type": "code",
   "execution_count": 6,
   "id": "8cdc0cdf-1c75-4419-80e5-fbe7ac5643d4",
   "metadata": {},
   "outputs": [
    {
     "data": {
      "text/plain": [
       "0"
      ]
     },
     "execution_count": 6,
     "metadata": {},
     "output_type": "execute_result"
    }
   ],
   "source": [
    "ravel(0, 0, n_rows=1, n_cols=1)"
   ]
  },
  {
   "cell_type": "code",
   "execution_count": 7,
   "id": "7a3dee03-bc83-42ec-921d-53408de46961",
   "metadata": {},
   "outputs": [
    {
     "data": {
      "text/plain": [
       "15"
      ]
     },
     "execution_count": 7,
     "metadata": {},
     "output_type": "execute_result"
    }
   ],
   "source": [
    "ravel(3, 3, n_rows=4, n_cols=4)"
   ]
  },
  {
   "cell_type": "code",
   "execution_count": 8,
   "id": "f7097b45-61dc-4e4b-9d77-74ad18310dcc",
   "metadata": {},
   "outputs": [
    {
     "data": {
      "text/plain": [
       "69318923"
      ]
     },
     "execution_count": 8,
     "metadata": {},
     "output_type": "execute_result"
    }
   ],
   "source": [
    "ravel(3_465, 18_923, n_rows=10_000, n_cols=20_000)"
   ]
  },
  {
   "cell_type": "markdown",
   "id": "a9179008-2f6e-4177-8a8c-8e84b6ae0701",
   "metadata": {},
   "source": [
    "Strides"
   ]
  },
  {
   "cell_type": "code",
   "execution_count": 9,
   "id": "2b4b7f9f-81ce-4a02-b0f8-da4fb728e40e",
   "metadata": {},
   "outputs": [
    {
     "data": {
      "text/plain": [
       "array([[ 0,  1,  2,  3],\n",
       "       [ 4,  5,  6,  7],\n",
       "       [ 8,  9, 10, 11],\n",
       "       [12, 13, 14, 15]])"
      ]
     },
     "execution_count": 9,
     "metadata": {},
     "output_type": "execute_result"
    }
   ],
   "source": [
    "a = np.arange(16).reshape(4,4)\n",
    "a"
   ]
  },
  {
   "cell_type": "code",
   "execution_count": 10,
   "id": "54207c5a-5c09-40d8-83f2-1a3a2a5279c2",
   "metadata": {},
   "outputs": [
    {
     "data": {
      "text/plain": [
       "(32, 8)"
      ]
     },
     "execution_count": 10,
     "metadata": {},
     "output_type": "execute_result"
    }
   ],
   "source": [
    "a.strides"
   ]
  },
  {
   "cell_type": "markdown",
   "id": "77f2c62f-0ebd-4370-a12e-3e67b58ecb8c",
   "metadata": {},
   "source": [
    "64 bytes to get to the next row (axis = 1)</br>\n",
    "8 bytes to get to the next column (axis = 0)"
   ]
  },
  {
   "cell_type": "markdown",
   "id": "3e35a5ff-6fe8-44a1-8bc4-5da76d56f397",
   "metadata": {},
   "source": [
    "Exercise 3"
   ]
  },
  {
   "cell_type": "code",
   "execution_count": 11,
   "id": "ceb78872-3787-4067-a7f0-e477c6b2c288",
   "metadata": {},
   "outputs": [
    {
     "data": {
      "text/plain": [
       "array([[ 0,  1,  2,  3],\n",
       "       [ 4,  5,  6,  7],\n",
       "       [ 8,  9, 10, 11],\n",
       "       [12, 13, 14, 15]])"
      ]
     },
     "execution_count": 11,
     "metadata": {},
     "output_type": "execute_result"
    }
   ],
   "source": [
    "np.lib.stride_tricks.as_strided(a, a.shape[::], a.strides[::])"
   ]
  },
  {
   "cell_type": "code",
   "execution_count": 12,
   "id": "c6d30dd8-4dc6-421f-9b53-6743e84b99b8",
   "metadata": {},
   "outputs": [],
   "source": [
    "def transpose(matrix):\n",
    "    transposed = np.lib.stride_tricks.as_strided(matrix, matrix.shape[::-1], matrix.strides[::-1])\n",
    "    return transposed"
   ]
  },
  {
   "cell_type": "code",
   "execution_count": 13,
   "id": "aedaa6b3-33af-4f46-9b33-759325406760",
   "metadata": {},
   "outputs": [
    {
     "data": {
      "text/plain": [
       "array([[ 0,  4,  8, 12],\n",
       "       [ 1,  5,  9, 13],\n",
       "       [ 2,  6, 10, 14],\n",
       "       [ 3,  7, 11, 15]])"
      ]
     },
     "execution_count": 13,
     "metadata": {},
     "output_type": "execute_result"
    }
   ],
   "source": [
    "transpose(a)"
   ]
  },
  {
   "cell_type": "code",
   "execution_count": 14,
   "id": "958ae36c-5230-4c44-b9c6-51e2eeb549cf",
   "metadata": {},
   "outputs": [
    {
     "data": {
      "text/plain": [
       "array([[1],\n",
       "       [2],\n",
       "       [3],\n",
       "       [4],\n",
       "       [5]])"
      ]
     },
     "execution_count": 14,
     "metadata": {},
     "output_type": "execute_result"
    }
   ],
   "source": [
    "N_ELEMENTS = 100000000000\n",
    "a = np.array([1,2,3,4,5]).reshape(5,1)\n",
    "a"
   ]
  },
  {
   "cell_type": "code",
   "execution_count": 15,
   "id": "fd70503a-d195-48b7-ba28-f8f53ac53cb2",
   "metadata": {},
   "outputs": [
    {
     "data": {
      "text/plain": [
       "(5, 1)"
      ]
     },
     "execution_count": 15,
     "metadata": {},
     "output_type": "execute_result"
    }
   ],
   "source": [
    "a.shape"
   ]
  },
  {
   "cell_type": "code",
   "execution_count": 16,
   "id": "ff342458-d883-4e92-aac1-0adcae3cafa3",
   "metadata": {},
   "outputs": [
    {
     "data": {
      "text/plain": [
       "(8, 8)"
      ]
     },
     "execution_count": 16,
     "metadata": {},
     "output_type": "execute_result"
    }
   ],
   "source": [
    "a.strides"
   ]
  },
  {
   "cell_type": "code",
   "execution_count": 20,
   "id": "d792351b-a559-4ddc-aa48-9ea884a7b3dc",
   "metadata": {},
   "outputs": [
    {
     "data": {
      "text/plain": [
       "array([[1, 1, 1, ..., 1, 1, 1],\n",
       "       [2, 2, 2, ..., 2, 2, 2],\n",
       "       [3, 3, 3, ..., 3, 3, 3],\n",
       "       [4, 4, 4, ..., 4, 4, 4],\n",
       "       [5, 5, 5, ..., 5, 5, 5]])"
      ]
     },
     "execution_count": 20,
     "metadata": {},
     "output_type": "execute_result"
    }
   ],
   "source": [
    "np.lib.stride_tricks.as_strided(a, (a.shape[0], a.shape[1]*N_ELEMENTS), (8, 0))"
   ]
  }
 ],
 "metadata": {
  "kernelspec": {
   "display_name": "Python 3 (ipykernel)",
   "language": "python",
   "name": "python3"
  },
  "language_info": {
   "codemirror_mode": {
    "name": "ipython",
    "version": 3
   },
   "file_extension": ".py",
   "mimetype": "text/x-python",
   "name": "python",
   "nbconvert_exporter": "python",
   "pygments_lexer": "ipython3",
   "version": "3.9.13"
  }
 },
 "nbformat": 4,
 "nbformat_minor": 5
}
