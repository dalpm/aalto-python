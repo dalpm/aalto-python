{
 "cells": [
  {
   "cell_type": "code",
   "execution_count": 1,
   "id": "01be2e80-eafd-4548-9787-37c15933c9ae",
   "metadata": {},
   "outputs": [],
   "source": [
    "import numpy as np"
   ]
  },
  {
   "cell_type": "markdown",
   "id": "8a0f0d08-a26a-43fb-8bf6-9550d365689b",
   "metadata": {},
   "source": [
    "Reverse a vector. Given a vector, reverse it such that the last element becomes the first"
   ]
  },
  {
   "cell_type": "code",
   "execution_count": 2,
   "id": "033efccd-00a9-4d50-8ae7-a22e26e7cc73",
   "metadata": {},
   "outputs": [
    {
     "data": {
      "text/plain": [
       "array([0, 1, 2])"
      ]
     },
     "execution_count": 2,
     "metadata": {},
     "output_type": "execute_result"
    }
   ],
   "source": [
    "x = np.arange(3)\n",
    "x"
   ]
  },
  {
   "cell_type": "code",
   "execution_count": 3,
   "id": "e5e3b5a3-d141-432d-b5dd-459ed937c7e1",
   "metadata": {},
   "outputs": [
    {
     "data": {
      "text/plain": [
       "array([2, 1, 0])"
      ]
     },
     "execution_count": 3,
     "metadata": {},
     "output_type": "execute_result"
    }
   ],
   "source": [
    "x_rev = x[::-1]\n",
    "x_rev"
   ]
  },
  {
   "cell_type": "markdown",
   "id": "3c193591-3144-496b-8104-14d6c813241f",
   "metadata": {},
   "source": [
    "Create a 2D array with zeros on the borders and 1 inside."
   ]
  },
  {
   "cell_type": "code",
   "execution_count": 4,
   "id": "cf8f9f93-e63b-4002-8317-244512eefaee",
   "metadata": {},
   "outputs": [
    {
     "data": {
      "text/plain": [
       "array([[1., 1., 1., 1.],\n",
       "       [1., 1., 1., 1.],\n",
       "       [1., 1., 1., 1.]])"
      ]
     },
     "execution_count": 4,
     "metadata": {},
     "output_type": "execute_result"
    }
   ],
   "source": [
    "arr = np.ones(12).reshape(3,4)\n",
    "arr"
   ]
  },
  {
   "cell_type": "code",
   "execution_count": 5,
   "id": "a40f9a5d-c6b0-47ca-92fa-61ea78d7dbb7",
   "metadata": {},
   "outputs": [],
   "source": [
    "arr[0] = 0\n",
    "arr[-1] = 0\n",
    "arr[:,0] = 0\n",
    "arr[:,-1] = 0"
   ]
  },
  {
   "cell_type": "code",
   "execution_count": 6,
   "id": "3396b971-a34f-4853-b31e-80e09d6b1561",
   "metadata": {},
   "outputs": [
    {
     "data": {
      "text/plain": [
       "array([[0., 0., 0., 0.],\n",
       "       [0., 1., 1., 0.],\n",
       "       [0., 0., 0., 0.]])"
      ]
     },
     "execution_count": 6,
     "metadata": {},
     "output_type": "execute_result"
    }
   ],
   "source": [
    "arr"
   ]
  },
  {
   "cell_type": "markdown",
   "id": "c4b0b313-1241-42e5-a348-dbee2c5968fe",
   "metadata": {},
   "source": [
    "Create a random array with elements [0, 1), then add 10 to all elements in the range [0.2, 0.7)."
   ]
  },
  {
   "cell_type": "code",
   "execution_count": 7,
   "id": "859fa1fe-6e30-4a9f-b43a-d484a44eb803",
   "metadata": {},
   "outputs": [
    {
     "data": {
      "text/plain": [
       "array([[0.02177402, 0.00203492, 0.7260253 , 0.41644706, 0.40353748,\n",
       "        0.10907436, 0.14001815, 0.96850671, 0.89724007, 0.23480353]])"
      ]
     },
     "execution_count": 7,
     "metadata": {},
     "output_type": "execute_result"
    }
   ],
   "source": [
    "a = np.random.random((1,10))\n",
    "a"
   ]
  },
  {
   "cell_type": "code",
   "execution_count": 8,
   "id": "8814d74a-71cb-4f69-bcc1-9c7cfd10dbf9",
   "metadata": {},
   "outputs": [
    {
     "data": {
      "text/plain": [
       "array([[2.17740247e-02, 2.03492142e-03, 7.26025295e-01, 1.04164471e+01,\n",
       "        1.04035375e+01, 1.09074356e-01, 1.40018150e-01, 9.68506706e-01,\n",
       "        8.97240068e-01, 1.02348035e+01]])"
      ]
     },
     "execution_count": 8,
     "metadata": {},
     "output_type": "execute_result"
    }
   ],
   "source": [
    "bool1 = (0.2 <= a)\n",
    "bool2 = (a < 0.7)\n",
    "idx = (bool1 & bool2)\n",
    "a[idx] += 10\n",
    "a"
   ]
  },
  {
   "cell_type": "markdown",
   "id": "f5ee8945-1872-4bc8-a34f-34cb8303e9fb",
   "metadata": {},
   "source": [
    "What is np.round(0.5)? What is np.round(1.5)? Why?"
   ]
  },
  {
   "cell_type": "code",
   "execution_count": 9,
   "id": "abd8b83f-0dd5-4608-8c76-18900a436c18",
   "metadata": {},
   "outputs": [
    {
     "data": {
      "text/plain": [
       "0.0"
      ]
     },
     "execution_count": 9,
     "metadata": {},
     "output_type": "execute_result"
    }
   ],
   "source": [
    "np.round(0.5)"
   ]
  },
  {
   "cell_type": "code",
   "execution_count": 10,
   "id": "d6ae8cab-f329-48b1-b0be-b0a3b160f45f",
   "metadata": {},
   "outputs": [
    {
     "data": {
      "text/plain": [
       "2.0"
      ]
     },
     "execution_count": 10,
     "metadata": {},
     "output_type": "execute_result"
    }
   ],
   "source": [
    "np.round(1.5)"
   ]
  },
  {
   "cell_type": "markdown",
   "id": "a5667595-9d42-4077-9db2-6233d9f3c3bd",
   "metadata": {},
   "source": [
    "numpy rounds to the nearest even value."
   ]
  },
  {
   "cell_type": "markdown",
   "id": "8fceb6b0-a9de-4b8c-aa02-b21e49b4aa61",
   "metadata": {},
   "source": [
    "In addition to np.round, explore numpy.ceil, numpy.floor, numpy.trunc. In particular, take note of how they behave with negative numbers."
   ]
  },
  {
   "cell_type": "code",
   "execution_count": 13,
   "id": "86465087-9436-4209-881c-07b7d8a88428",
   "metadata": {},
   "outputs": [],
   "source": [
    "new_arr = np.array([1.5,2.5,3.5])"
   ]
  },
  {
   "cell_type": "code",
   "execution_count": 14,
   "id": "e5de7f5a-e5d1-4288-91ce-be8d2d20cca0",
   "metadata": {},
   "outputs": [
    {
     "data": {
      "text/plain": [
       "array([2., 3., 4.])"
      ]
     },
     "execution_count": 14,
     "metadata": {},
     "output_type": "execute_result"
    }
   ],
   "source": [
    "np.ceil(new_arr)"
   ]
  },
  {
   "cell_type": "code",
   "execution_count": 15,
   "id": "e890398a-f865-4d20-a10d-6465f86f886e",
   "metadata": {},
   "outputs": [
    {
     "data": {
      "text/plain": [
       "array([1., 2., 3.])"
      ]
     },
     "execution_count": 15,
     "metadata": {},
     "output_type": "execute_result"
    }
   ],
   "source": [
    "np.floor(new_arr)"
   ]
  },
  {
   "cell_type": "code",
   "execution_count": 16,
   "id": "31fbf980-ca3a-46fa-aafb-a7bb2ca99a11",
   "metadata": {},
   "outputs": [
    {
     "data": {
      "text/plain": [
       "array([1., 2., 3.])"
      ]
     },
     "execution_count": 16,
     "metadata": {},
     "output_type": "execute_result"
    }
   ],
   "source": [
    "np.trunc(new_arr)"
   ]
  },
  {
   "cell_type": "markdown",
   "id": "861fe8b5-a41a-4123-9f31-a0891b2b929c",
   "metadata": {},
   "source": [
    "Create a random 4x4 array with values in the range [0, 10). Now test the equality with numpy.equal. What result do you get with numpy.allclose() instead of np.equal?"
   ]
  },
  {
   "cell_type": "code",
   "execution_count": 22,
   "id": "d19f4e1d-dc0c-449c-a1db-56f37f53d163",
   "metadata": {},
   "outputs": [
    {
     "data": {
      "text/plain": [
       "array([[0, 8, 6, 3],\n",
       "       [3, 1, 9, 9],\n",
       "       [7, 7, 0, 0],\n",
       "       [2, 1, 9, 6]])"
      ]
     },
     "execution_count": 22,
     "metadata": {},
     "output_type": "execute_result"
    }
   ],
   "source": [
    "rand_arr = np.random.randint(0, 10, (4,4))\n",
    "rand_arr"
   ]
  },
  {
   "cell_type": "code",
   "execution_count": 24,
   "id": "c26f3891-653e-4648-83af-9bf505febf0b",
   "metadata": {},
   "outputs": [
    {
     "data": {
      "text/plain": [
       "array([[1., 1., 1., 1.],\n",
       "       [1., 1., 1., 1.],\n",
       "       [1., 1., 1., 1.],\n",
       "       [1., 1., 1., 1.]])"
      ]
     },
     "execution_count": 24,
     "metadata": {},
     "output_type": "execute_result"
    }
   ],
   "source": [
    "ones_arr = np.ones((4,4))\n",
    "ones_arr"
   ]
  },
  {
   "cell_type": "code",
   "execution_count": 26,
   "id": "b793ddfd-058b-4436-87f5-84ba197d1c9a",
   "metadata": {},
   "outputs": [
    {
     "data": {
      "text/plain": [
       "array([[1., 1., 1., 1.],\n",
       "       [1., 1., 1., 1.],\n",
       "       [1., 1., 1., 1.],\n",
       "       [1., 1., 1., 1.]])"
      ]
     },
     "execution_count": 26,
     "metadata": {},
     "output_type": "execute_result"
    }
   ],
   "source": [
    "sin2cos2 = np.square(np.sin(rand_arr)) + np.square(np.cos(rand_arr))\n",
    "sin2cos2"
   ]
  },
  {
   "cell_type": "code",
   "execution_count": 27,
   "id": "c9a56c8d-30f7-4e43-a35d-49c19cc114a7",
   "metadata": {},
   "outputs": [
    {
     "data": {
      "text/plain": [
       "array([[ True,  True,  True, False],\n",
       "       [False,  True, False, False],\n",
       "       [False, False,  True,  True],\n",
       "       [ True,  True, False,  True]])"
      ]
     },
     "execution_count": 27,
     "metadata": {},
     "output_type": "execute_result"
    }
   ],
   "source": [
    "np.equal(ones_arr, sin2cos2)"
   ]
  },
  {
   "cell_type": "code",
   "execution_count": 28,
   "id": "abd72154-90bb-4c97-aa2a-a3d965744c56",
   "metadata": {},
   "outputs": [
    {
     "data": {
      "text/plain": [
       "True"
      ]
     },
     "execution_count": 28,
     "metadata": {},
     "output_type": "execute_result"
    }
   ],
   "source": [
    "np.allclose(ones_arr, sin2cos2)"
   ]
  },
  {
   "cell_type": "markdown",
   "id": "af7ac24c-f610-405a-b1e5-b605c56f3fb3",
   "metadata": {},
   "source": [
    "Create a 1D array with 10 random elements. Sort it."
   ]
  },
  {
   "cell_type": "code",
   "execution_count": 35,
   "id": "d0f71e6a-1a03-4a0b-9992-3be00b24b971",
   "metadata": {},
   "outputs": [
    {
     "data": {
      "text/plain": [
       "array([[0.00190534, 0.14742555, 0.77173432, 0.50006176, 0.33344893,\n",
       "        0.02445875, 0.8906829 , 0.80620546, 0.90783526, 0.29327712]])"
      ]
     },
     "execution_count": 35,
     "metadata": {},
     "output_type": "execute_result"
    }
   ],
   "source": [
    "rand_one_d = np.random.random((1, 10))\n",
    "rand_one_d"
   ]
  },
  {
   "cell_type": "code",
   "execution_count": 42,
   "id": "e7e41d3b-3309-442f-beb9-a4663c31e4fc",
   "metadata": {},
   "outputs": [],
   "source": [
    "rand_one_d.sort()"
   ]
  },
  {
   "cell_type": "code",
   "execution_count": 40,
   "id": "158b27f5-f6e8-47f8-b031-5190e5fc18dc",
   "metadata": {},
   "outputs": [
    {
     "data": {
      "text/plain": [
       "array([[0.00190534, 0.02445875, 0.14742555, 0.29327712, 0.33344893,\n",
       "        0.50006176, 0.77173432, 0.80620546, 0.8906829 , 0.90783526]])"
      ]
     },
     "execution_count": 40,
     "metadata": {},
     "output_type": "execute_result"
    }
   ],
   "source": [
    "np.sort(rand_one_d)"
   ]
  },
  {
   "cell_type": "markdown",
   "id": "7c34f708-a565-4898-aaa1-55feec51d8d6",
   "metadata": {},
   "source": [
    "np.sort() returns the sorted array."
   ]
  },
  {
   "cell_type": "code",
   "execution_count": 45,
   "id": "a8456373-016c-4b32-af42-73ad3b2bac1d",
   "metadata": {},
   "outputs": [
    {
     "data": {
      "text/plain": [
       "array([[0.24555416, 0.41960243, 0.36441724, 0.96009417, 0.23717996,\n",
       "        0.65103917, 0.51075608, 0.95436644, 0.0542575 , 0.31904357]])"
      ]
     },
     "execution_count": 45,
     "metadata": {},
     "output_type": "execute_result"
    }
   ],
   "source": [
    "rand_one_d = np.random.random((1, 10))\n",
    "rand_one_d"
   ]
  },
  {
   "cell_type": "code",
   "execution_count": 46,
   "id": "97b90d0e-fe1e-4caa-a04b-8e4714ef5cf6",
   "metadata": {},
   "outputs": [
    {
     "data": {
      "text/plain": [
       "array([[8, 4, 0, 9, 2, 1, 6, 5, 7, 3]])"
      ]
     },
     "execution_count": 46,
     "metadata": {},
     "output_type": "execute_result"
    }
   ],
   "source": [
    "np.argsort(rand_one_d)"
   ]
  },
  {
   "cell_type": "markdown",
   "id": "bafd5acf-8260-4ff9-9050-a8c3640b5b66",
   "metadata": {},
   "source": [
    "Create a 4x4 array of zeros, and another 4x4 array of ones. Next combine them into a single 8x4 array with the content of the zeros array on top and the ones on the bottom. Finally, do the same, but create a 4x8 array with the zeros on the left and the ones on the right."
   ]
  },
  {
   "cell_type": "code",
   "execution_count": 50,
   "id": "5836c32a-77bf-4f39-9043-82c420bb984f",
   "metadata": {},
   "outputs": [
    {
     "data": {
      "text/plain": [
       "array([[0., 0., 0., 0.],\n",
       "       [0., 0., 0., 0.],\n",
       "       [0., 0., 0., 0.],\n",
       "       [0., 0., 0., 0.]])"
      ]
     },
     "execution_count": 50,
     "metadata": {},
     "output_type": "execute_result"
    }
   ],
   "source": [
    "zero_arr = np.zeros((4,4))\n",
    "zero_arr"
   ]
  },
  {
   "cell_type": "code",
   "execution_count": 51,
   "id": "30e6c81a-53ae-4505-a66e-611db98f467a",
   "metadata": {},
   "outputs": [
    {
     "data": {
      "text/plain": [
       "array([[1., 1., 1., 1.],\n",
       "       [1., 1., 1., 1.],\n",
       "       [1., 1., 1., 1.],\n",
       "       [1., 1., 1., 1.]])"
      ]
     },
     "execution_count": 51,
     "metadata": {},
     "output_type": "execute_result"
    }
   ],
   "source": [
    "ones_arr = np.ones((4,4))\n",
    "ones_arr"
   ]
  },
  {
   "cell_type": "code",
   "execution_count": 55,
   "id": "d49f406e-0bfc-4290-b2d1-d669d34435c2",
   "metadata": {},
   "outputs": [
    {
     "data": {
      "text/plain": [
       "array([[0., 0., 0., 0.],\n",
       "       [0., 0., 0., 0.],\n",
       "       [0., 0., 0., 0.],\n",
       "       [0., 0., 0., 0.],\n",
       "       [1., 1., 1., 1.],\n",
       "       [1., 1., 1., 1.],\n",
       "       [1., 1., 1., 1.],\n",
       "       [1., 1., 1., 1.]])"
      ]
     },
     "execution_count": 55,
     "metadata": {},
     "output_type": "execute_result"
    }
   ],
   "source": [
    "np.append(zero_arr, ones_arr).reshape(8,4)"
   ]
  },
  {
   "cell_type": "code",
   "execution_count": 57,
   "id": "67349f37-8994-4335-9f6a-ba85ab7c4c7b",
   "metadata": {},
   "outputs": [
    {
     "data": {
      "text/plain": [
       "array([[0., 0., 0., 0.],\n",
       "       [0., 0., 0., 0.],\n",
       "       [0., 0., 0., 0.],\n",
       "       [0., 0., 0., 0.],\n",
       "       [1., 1., 1., 1.],\n",
       "       [1., 1., 1., 1.],\n",
       "       [1., 1., 1., 1.],\n",
       "       [1., 1., 1., 1.]])"
      ]
     },
     "execution_count": 57,
     "metadata": {},
     "output_type": "execute_result"
    }
   ],
   "source": [
    "np.concatenate((zero_arr, ones_arr))"
   ]
  },
  {
   "cell_type": "code",
   "execution_count": 58,
   "id": "252aa226-2e88-41cc-83f8-61525acbafbe",
   "metadata": {},
   "outputs": [
    {
     "data": {
      "text/plain": [
       "array([[0., 0., 0., 0., 1., 1., 1., 1.],\n",
       "       [0., 0., 0., 0., 1., 1., 1., 1.],\n",
       "       [0., 0., 0., 0., 1., 1., 1., 1.],\n",
       "       [0., 0., 0., 0., 1., 1., 1., 1.]])"
      ]
     },
     "execution_count": 58,
     "metadata": {},
     "output_type": "execute_result"
    }
   ],
   "source": [
    "np.concatenate((zero_arr, ones_arr), axis = 1)"
   ]
  },
  {
   "cell_type": "markdown",
   "id": "0c3d85e8-cac3-401c-9063-963ce4cec96d",
   "metadata": {},
   "source": [
    "NumPy functionality Create two 2D arrays and do matrix multiplication first manually (for loop), then using the np.dot function. Use %%timeit to compare execution times. What is happening?"
   ]
  },
  {
   "cell_type": "code",
   "execution_count": 61,
   "id": "78282114-b03a-486f-8fb7-a28468b51951",
   "metadata": {},
   "outputs": [],
   "source": [
    "first_arr = np.arange(12).reshape(3,4)\n",
    "second_arr = np.arange(6,18).reshape(4,3)"
   ]
  },
  {
   "cell_type": "code",
   "execution_count": 62,
   "id": "5f9973b8-760b-434c-8801-27d9674e98fe",
   "metadata": {},
   "outputs": [
    {
     "data": {
      "text/plain": [
       "array([[ 78,  84,  90],\n",
       "       [246, 268, 290],\n",
       "       [414, 452, 490]])"
      ]
     },
     "execution_count": 62,
     "metadata": {},
     "output_type": "execute_result"
    }
   ],
   "source": [
    "np.dot(first_arr, second_arr)"
   ]
  },
  {
   "cell_type": "code",
   "execution_count": 63,
   "id": "07054a5f-5d11-485d-95e9-457ffa5d74b1",
   "metadata": {},
   "outputs": [],
   "source": [
    "new_arr = np.zeros((3,3))"
   ]
  },
  {
   "cell_type": "code",
   "execution_count": 64,
   "id": "172ccbe2-6187-48f3-ad7f-978cc22e5137",
   "metadata": {},
   "outputs": [
    {
     "data": {
      "text/plain": [
       "3"
      ]
     },
     "execution_count": 64,
     "metadata": {},
     "output_type": "execute_result"
    }
   ],
   "source": [
    "first_arr.shape[0]"
   ]
  },
  {
   "cell_type": "code",
   "execution_count": null,
   "id": "2e2060bf-33ea-4f71-ae94-c0f29ebaba75",
   "metadata": {},
   "outputs": [],
   "source": [
    "for i in range(len(first_arr.shape[0])):\n",
    "    sum_new = 0\n",
    "    for k in range(len(first_arr.shape[1])):\n",
    "        sum_new += first_arr[i][k] * second_arr[i][k]\n",
    "    "
   ]
  }
 ],
 "metadata": {
  "kernelspec": {
   "display_name": "Python 3 (ipykernel)",
   "language": "python",
   "name": "python3"
  },
  "language_info": {
   "codemirror_mode": {
    "name": "ipython",
    "version": 3
   },
   "file_extension": ".py",
   "mimetype": "text/x-python",
   "name": "python",
   "nbconvert_exporter": "python",
   "pygments_lexer": "ipython3",
   "version": "3.9.13"
  }
 },
 "nbformat": 4,
 "nbformat_minor": 5
}
