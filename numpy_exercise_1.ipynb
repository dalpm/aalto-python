{
 "cells": [
  {
   "cell_type": "code",
   "execution_count": 1,
   "id": "ce1f9047-aa08-4553-a6ec-8197b8b13c75",
   "metadata": {},
   "outputs": [],
   "source": [
    "import numpy as np"
   ]
  },
  {
   "cell_type": "code",
   "execution_count": 2,
   "id": "221d5d25-9ceb-41a1-8cc4-f7a80c47fde5",
   "metadata": {},
   "outputs": [],
   "source": [
    "a = np.arange(10)"
   ]
  },
  {
   "cell_type": "code",
   "execution_count": 3,
   "id": "71136c57-114d-4b07-b2a5-21820c0eaf50",
   "metadata": {},
   "outputs": [],
   "source": [
    "b = np.linspace(0, 9, 10)"
   ]
  },
  {
   "cell_type": "code",
   "execution_count": 4,
   "id": "caec77ea-65d9-4fec-bf72-3c935913476b",
   "metadata": {},
   "outputs": [
    {
     "data": {
      "text/plain": [
       "dtype('int64')"
      ]
     },
     "execution_count": 4,
     "metadata": {},
     "output_type": "execute_result"
    }
   ],
   "source": [
    "a.dtype"
   ]
  },
  {
   "cell_type": "code",
   "execution_count": 5,
   "id": "2e847a80-4711-4a25-b4e6-e29ed4d4a818",
   "metadata": {},
   "outputs": [
    {
     "data": {
      "text/plain": [
       "dtype('float64')"
      ]
     },
     "execution_count": 5,
     "metadata": {},
     "output_type": "execute_result"
    }
   ],
   "source": [
    "b.dtype"
   ]
  },
  {
   "cell_type": "markdown",
   "id": "c9a5db6d-2d5a-4b99-a738-69a19975e1e3",
   "metadata": {},
   "source": [
    "The difference is the datatypes used in different arrays."
   ]
  },
  {
   "cell_type": "code",
   "execution_count": 6,
   "id": "bb6203d2-fb5b-4643-9b50-b557b05f483a",
   "metadata": {},
   "outputs": [
    {
     "data": {
      "text/plain": [
       "array([[0.33735294, 0.88804343, 0.1571459 ],\n",
       "       [0.76087449, 0.81777071, 0.32526261]])"
      ]
     },
     "execution_count": 6,
     "metadata": {},
     "output_type": "execute_result"
    }
   ],
   "source": [
    "rand_array = np.random.random((2,3))\n",
    "rand_array"
   ]
  },
  {
   "cell_type": "code",
   "execution_count": 7,
   "id": "e56c2b0d-3548-4c0e-84c9-a188d3a514ff",
   "metadata": {},
   "outputs": [
    {
     "data": {
      "text/plain": [
       "array([[0, 0, 0],\n",
       "       [0, 0, 0]])"
      ]
     },
     "execution_count": 7,
     "metadata": {},
     "output_type": "execute_result"
    }
   ],
   "source": [
    "rand_array = rand_array.astype(int)\n",
    "rand_array"
   ]
  },
  {
   "cell_type": "code",
   "execution_count": 8,
   "id": "733ee7ba-e6fc-4c9c-a0a5-0b28d9e01d8c",
   "metadata": {},
   "outputs": [
    {
     "data": {
      "text/plain": [
       "array([[8, 2],\n",
       "       [0, 8],\n",
       "       [7, 9]])"
      ]
     },
     "execution_count": 8,
     "metadata": {},
     "output_type": "execute_result"
    }
   ],
   "source": [
    "c = np.random.randint(0, 10, (3,2), int)\n",
    "c"
   ]
  },
  {
   "cell_type": "code",
   "execution_count": 9,
   "id": "160dbd5d-4b2f-4865-abba-99c944940214",
   "metadata": {},
   "outputs": [
    {
     "data": {
      "text/plain": [
       "array([[8, 2, 0, 8, 7, 9]])"
      ]
     },
     "execution_count": 9,
     "metadata": {},
     "output_type": "execute_result"
    }
   ],
   "source": [
    "c.reshape((1,6))"
   ]
  },
  {
   "cell_type": "code",
   "execution_count": 10,
   "id": "3e576378-c050-4e7a-9be4-d0fd8ea4606f",
   "metadata": {},
   "outputs": [
    {
     "data": {
      "text/plain": [
       "array([[8, 2, 0],\n",
       "       [8, 7, 9]])"
      ]
     },
     "execution_count": 10,
     "metadata": {},
     "output_type": "execute_result"
    }
   ],
   "source": [
    "c.reshape((2,3))"
   ]
  },
  {
   "cell_type": "code",
   "execution_count": 11,
   "id": "433f28c4-1289-4c2a-8bba-b673eca7e419",
   "metadata": {},
   "outputs": [
    {
     "data": {
      "text/plain": [
       "array([[8],\n",
       "       [2],\n",
       "       [0],\n",
       "       [8],\n",
       "       [7],\n",
       "       [9]])"
      ]
     },
     "execution_count": 11,
     "metadata": {},
     "output_type": "execute_result"
    }
   ],
   "source": [
    "c.reshape((6,1))"
   ]
  },
  {
   "cell_type": "code",
   "execution_count": 12,
   "id": "2ca2a4b4-c0d5-4199-b1bb-ebef8232d7ff",
   "metadata": {},
   "outputs": [],
   "source": [
    "np.save(\"new.npy\", c)"
   ]
  },
  {
   "cell_type": "code",
   "execution_count": 13,
   "id": "d329111f-ea68-4cf9-9f46-9904045e88d9",
   "metadata": {},
   "outputs": [
    {
     "data": {
      "text/plain": [
       "array([[8, 2],\n",
       "       [0, 8],\n",
       "       [7, 9]])"
      ]
     },
     "execution_count": 13,
     "metadata": {},
     "output_type": "execute_result"
    }
   ],
   "source": [
    "np.load(\"new.npy\")"
   ]
  }
 ],
 "metadata": {
  "kernelspec": {
   "display_name": "Python 3 (ipykernel)",
   "language": "python",
   "name": "python3"
  },
  "language_info": {
   "codemirror_mode": {
    "name": "ipython",
    "version": 3
   },
   "file_extension": ".py",
   "mimetype": "text/x-python",
   "name": "python",
   "nbconvert_exporter": "python",
   "pygments_lexer": "ipython3",
   "version": "3.9.13"
  }
 },
 "nbformat": 4,
 "nbformat_minor": 5
}
